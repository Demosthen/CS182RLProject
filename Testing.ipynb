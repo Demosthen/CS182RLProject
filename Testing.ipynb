{
 "cells": [
  {
   "cell_type": "code",
   "execution_count": 2,
   "id": "latin-terrorism",
   "metadata": {
    "scrolled": true
   },
   "outputs": [
    {
     "output_type": "stream",
     "name": "stdout",
     "text": [
      "Dict(rgb=D256[64,64,3])\n"
     ]
    }
   ],
   "source": [
    "import gym3\n",
    "from procgen import ProcgenGym3Env\n",
    "\n",
    "env = ProcgenGym3Env(num=2, env_name=\"fruitbot\", render_mode=\"rgb_array\")\n",
    "env = gym3.ViewerWrapper(env, info_key=\"rgb\")\n",
    "step = 0\n",
    "print(env.ob_space)\n",
    "while False:\n",
    "    act = gym3.types_np.sample(env.ac_space, bshape=(env.num,))\n",
    "    env.act(act)\n",
    "    rew, obs, first = env.observe()\n",
    "    print(f\"step {step} reward {rew} first {first}, action {act}\")\n",
    "    step += 1"
   ]
  },
  {
   "cell_type": "code",
   "execution_count": null,
   "id": "included-convention",
   "metadata": {},
   "outputs": [],
   "source": []
  }
 ],
 "metadata": {
  "kernelspec": {
   "name": "python3",
   "display_name": "Python 3.6.13 64-bit ('182Project': conda)",
   "metadata": {
    "interpreter": {
     "hash": "e4a2a9bbe989ef8d162217aed0936a29acca8a492483f131e66793de21cffb2e"
    }
   }
  },
  "language_info": {
   "codemirror_mode": {
    "name": "ipython",
    "version": 3
   },
   "file_extension": ".py",
   "mimetype": "text/x-python",
   "name": "python",
   "nbconvert_exporter": "python",
   "pygments_lexer": "ipython3",
   "version": "3.6.13-final"
  },
  "varInspector": {
   "cols": {
    "lenName": 16,
    "lenType": 16,
    "lenVar": 40
   },
   "kernels_config": {
    "python": {
     "delete_cmd_postfix": "",
     "delete_cmd_prefix": "del ",
     "library": "var_list.py",
     "varRefreshCmd": "print(var_dic_list())"
    },
    "r": {
     "delete_cmd_postfix": ") ",
     "delete_cmd_prefix": "rm(",
     "library": "var_list.r",
     "varRefreshCmd": "cat(var_dic_list()) "
    }
   },
   "types_to_exclude": [
    "module",
    "function",
    "builtin_function_or_method",
    "instance",
    "_Feature"
   ],
   "window_display": true
  }
 },
 "nbformat": 4,
 "nbformat_minor": 5
}